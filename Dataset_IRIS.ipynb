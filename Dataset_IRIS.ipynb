{
  "nbformat": 4,
  "nbformat_minor": 0,
  "metadata": {
    "colab": {
      "provenance": [],
      "authorship_tag": "ABX9TyN2tvPIz0LfpZWmLjr4+pj/",
      "include_colab_link": true
    },
    "kernelspec": {
      "name": "python3",
      "display_name": "Python 3"
    },
    "language_info": {
      "name": "python"
    }
  },
  "cells": [
    {
      "cell_type": "markdown",
      "metadata": {
        "id": "view-in-github",
        "colab_type": "text"
      },
      "source": [
        "<a href=\"https://colab.research.google.com/github/AlbertoS8/Topicos-IA/blob/main/Dataset_IRIS.ipynb\" target=\"_parent\"><img src=\"https://colab.research.google.com/assets/colab-badge.svg\" alt=\"Open In Colab\"/></a>"
      ]
    },
    {
      "cell_type": "markdown",
      "source": [
        "### Definicion del Problema\n",
        "Este es el problema principal que se aborda con el conjunto de datos Iris. La tarea consiste en utilizar las mediciones de cuatro características morfológicas de las flores de iris (longitud del sépalo, ancho del sépalo, longitud del pétalo y ancho del pétalo) para predecir a qué especie de iris pertenece una flor dada. Las tres especies de iris incluidas en el conjunto de datos son:\n",
        "\n",
        "\n",
        "\n",
        "*   Iris setosa\n",
        "*   Iris versicolor\n",
        "*   Iris virginica\n",
        "\n",
        "### Acerca del Dataset\n",
        "El conjunto de datos \"Iris\" es uno de los conjuntos de datos más icónicos y utilizados en la comunidad de la ciencia de datos y el aprendizaje automático. Fue introducido por el biólogo y estadístico británico Ronald A. Fisher en 1936 como un ejemplo de análisis discriminante lineal. El conjunto de datos Iris contiene información sobre las mediciones de las características morfológicas de tres especies diferentes de iris, una planta de flores."
      ],
      "metadata": {
        "id": "HFYvCj9Newok"
      }
    },
    {
      "cell_type": "code",
      "execution_count": null,
      "metadata": {
        "id": "TFipeN-TdHTB"
      },
      "outputs": [],
      "source": [
        ""
      ]
    },
    {
      "cell_type": "markdown",
      "source": [
        "\n",
        "1. K Vecinos Cercanos (KNN):\n",
        "\n",
        "El algoritmo de K Vecinos Cercanos (KNN) es un método de aprendizaje supervisado que se utiliza tanto para clasificación como para regresión. Su funcionamiento es bastante simple: clasifica un punto de datos basándose en la mayoría de los votos de sus \"vecinos cercanos\" en un espacio de características.\n",
        "\n",
        "Ventajas de KNN:\n",
        "   - Fácil de entender e implementar.\n",
        "   - No requiere entrenamiento costoso, ya que el modelo simplemente almacena los datos de entrenamiento.\n",
        "   - Funciona bien en conjuntos de datos con relaciones no lineales o distribuciones complicadas.\n",
        "\n",
        "Aplicacion:\n",
        "\n",
        "\n"
      ],
      "metadata": {
        "id": "fxy200vVePtL"
      }
    },
    {
      "cell_type": "code",
      "source": [],
      "metadata": {
        "id": "xhyQgQj_efxO"
      },
      "execution_count": null,
      "outputs": []
    },
    {
      "cell_type": "markdown",
      "source": [
        "\n",
        "2. Máquinas de Soporte Vectorial (SVM):\n",
        "\n",
        "Las Máquinas de Soporte Vectorial (SVM) son algoritmos de aprendizaje supervisado utilizados principalmente para la clasificación, pero también se pueden utilizar para regresión. SVM encuentra un hiperplano que mejor separa las clases en un espacio de características.\n",
        "\n",
        "Ventajas de SVM:\n",
        "   - Efectivo en espacios de alta dimensión.\n",
        "   - Puede manejar datos no lineales mediante el uso de funciones kernel.\n",
        "   - Tiene un buen rendimiento incluso con un pequeño conjunto de datos.\n",
        "   - Proporciona una alta capacidad de generalización.\n",
        "\n",
        "Aplicacion:\n"
      ],
      "metadata": {
        "id": "ITuEp1aOeQlR"
      }
    },
    {
      "cell_type": "code",
      "source": [],
      "metadata": {
        "id": "gt_wg1c6eoCz"
      },
      "execution_count": null,
      "outputs": []
    },
    {
      "cell_type": "markdown",
      "source": [
        "3. Árboles de Decisión:\n",
        "\n",
        "Los árboles de decisión son algoritmos de aprendizaje supervisado que se utilizan tanto para clasificación como para regresión. Divide el conjunto de datos en nodos de decisión y hojas basándose en características específicas.\n",
        "\n",
        "Ventajas de los Árboles de Decisión:\n",
        "   - Fácil de interpretar y visualizar.\n",
        "   - Puede manejar datos numéricos y categóricos.\n",
        "   - No requiere una preparación intensiva de datos, como la normalización.\n",
        "   - Puede manejar automáticamente la selección de características importantes.\n",
        "\n",
        "Aplicacion:\n"
      ],
      "metadata": {
        "id": "-J--Xoi5elUx"
      }
    },
    {
      "cell_type": "code",
      "source": [],
      "metadata": {
        "id": "TcaNeb-Denfa"
      },
      "execution_count": null,
      "outputs": []
    }
  ]
}