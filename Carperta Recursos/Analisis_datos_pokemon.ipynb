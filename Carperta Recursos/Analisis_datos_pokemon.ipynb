{
 "cells": [
  {
   "cell_type": "markdown",
   "metadata": {},
   "source": [
    "# Pasos para realizar un proyecto de Machine Learning: Caso **Pokemon**\n",
    "\n",
    "Realizar un proyecto de Machine Learning consiste en llevar a cabo seis etapas consecutivas:\n",
    "\n",
    "1.  Definición del problema que se ha de resolver\n",
    "\n",
    "2.  Adquisición de los datos de aprendizaje y de las pruebas\n",
    "\n",
    "3.  Preparar y limpiar los datos\n",
    "\n",
    "4.  Analizar, explorar los datos\n",
    "\n",
    "5.  Elegir un modelo de aprendizaje\n",
    "\n",
    "6.  Ver los resultados y ajustar o modificar el modelo de aprendizaje\n",
    "\n",
    "La fase de preparación de los datos es la más importante en un proyecto de Machine Learning porque como humanos tenemos que intentar encontrar los datos más interesantes que nos permitirán responder al problema propuesto.\n",
    "\n",
    "Es mucho más que hacer un sencillo análisis de datos, hay que determinar cómo podemos resolver manualmente el problema a partir de la información de la que disponemos y antes de dárselo a la máquina.\n",
    "\n",
    "De esta manera, el mismo conjunto de datos se puede utilizar de distintas maneras en función del problema planteado."
   ]
  },
  {
   "cell_type": "markdown",
   "metadata": {},
   "source": [
    "# Datos para un aprendizaje supervisado\n",
    "\n",
    "1. **Datos basados en la experiencia:**\n",
    "\n",
    "Machine Learning se basa en el uso de datos para permitir que nuestro ordenador aprenda y pueda hacer predicciones. Estos datos deben estar relacionados con la misión que se nos ha confiado y basados en la experiencia.\n",
    "\n",
    "En nuestro caso, la experiencia consiste en conocer los resultados de los combates de los Pokémon.\n",
    "\n",
    "2. **Disponer de una gran cantidad de datos de aprendizaje:**\n",
    "\n",
    "Una máquina no puede aprender con un conjunto de datos pequeño porque debe poder estudiar todas las posibilidades para hacer sus predicciones. Por lo tanto, cuanto mayor sea la cantidad de casos estudiados para resolver un problema, más precisas serán las predicciones.\n",
    "\n",
    "3. **Datos de aprendizaje y datos de pruebas:**\n",
    "\n",
    "Al igual que los humanos, hay que validar el aprendizaje de la máquina para poder corregir las desviaciones de aprendizaje (llamadas sesgo) y ajustar o modificar el modelo de dicho aprendizaje. Para eso necesitamos datos de aprendizaje y datos de pruebas.\n"
   ]
  },
  {
   "cell_type": "markdown",
   "metadata": {},
   "source": [
    "\n",
    "## **Primera etapa**: definir el problema que hay que resolver\n",
    "\n",
    "En este caso, la problemática a la que tenemos que responder consiste en recomendar al domador de los Pokémon el animal que debe utilizar en un combate para ganar.\n"
   ]
  },
  {
   "cell_type": "markdown",
   "metadata": {},
   "source": [
    "## **Segunda etapa**: adquirir datos de aprendizaje y de pruebas\n",
    "\n",
    "Los archivos que hemos descargado y copiado en nuestro proyecto contienen los datos necesarios para la resolución de nuestro problema.\n",
    "\n",
    "El archivo Pokedex.csv contiene la lista de los Pokémon y de sus características. El archivo Combates.csv es nuestra base de conocimiento y de aprendizaje porque contiene una lista de combates de los Pokémon y el resultado de todos ellos. Por último, el archivo tests.csv nos permitirá validar el modelo de aprendizaje.\n",
    "\n",
    "Con la ayuda del módulo OS que nos permite utilizar las funcionalidades de nuestro sistema operativo, podemos hacer una lista de los archivos contenidos dentro del directorio datas de nuestro proyecto, como se muestra en el programa que aparece aquí debajo:"
   ]
  },
  {
   "cell_type": "code",
   "execution_count": 20,
   "metadata": {},
   "outputs": [],
   "source": [
    "# IMPORTAR LOS MODULOS\n",
    "#------------------------------------------\n",
    "import os #Uso del módulo OS (operating system, sistema operativo)\n",
    "\n",
    "#Uso del módulo Pandas\n",
    "import pandas as pnd\n",
    "\n",
    "#Desactivación de la cantidad máxima de columnas del DataFrame a mostrar\n",
    "pnd.set_option('display.max_columns',None)"
   ]
  },
  {
   "cell_type": "markdown",
   "metadata": {},
   "source": [
    "Si ejecutamos ahora nuestro siguiente script, nos dará como resultado una lista exhaustiva de los archivos de los que disponemos:"
   ]
  },
  {
   "cell_type": "code",
   "execution_count": 21,
   "metadata": {},
   "outputs": [
    {
     "name": "stdout",
     "output_type": "stream",
     "text": [
      "combates.csv\n",
      "dataset.csv\n",
      "nuevoPokedex.csv\n",
      "pokedex.csv\n",
      "pokedex_en.csv\n",
      "pokedex_es.csv\n",
      "pokedex_fr.csv\n",
      "tests.csv\n"
     ]
    }
   ],
   "source": [
    "#------------------------------------------\n",
    "# ANALISIS DE LOS DATOS\n",
    "#------------------------------------------\n",
    "\n",
    "#Recuperación de los archivos cotenidos en el directorio datas\n",
    "#de nuestro proyecto\n",
    "listaDeArchivos = os.listdir(\"datas\")\n",
    "\n",
    "#¿Cuál es el nombre de cada archivo?\n",
    "for archivo in listaDeArchivos:\n",
    "    print(archivo)\n"
   ]
  },
  {
   "cell_type": "markdown",
   "metadata": {},
   "source": [
    "## **Tercera etapa:** preparación de los datos\n",
    "\n",
    "En esta tercera etapa vamos a hacer una lectura en profundidad de nuestros datos para comprender su función y los impactos que pueden tener en el objetivo de predicción que nos hemos fijado. Por decirlo de algún modo, vamos a intentar resolver el problema «manualmente» formulando hipótesis y probando a seleccionar los datos que responderán a ellas.\n",
    "\n",
    "El estudio de los datos pasa principalmente por su descripción (nombre, tipo…), así como por diversos procesos de tratamiento, como la limpieza (eliminación de los datos inútiles y búsqueda de datos que faltan) y finalmente la combinación entre ellos, también llamada agregación de datos. Todo ello con el fin de disponer de un conjunto de conocimientos (observaciones) útiles y apropiadas para el aprendizaje y para alcanzar nuestro objetivo."
   ]
  },
  {
   "cell_type": "code",
   "execution_count": 22,
   "metadata": {},
   "outputs": [
    {
     "name": "stdout",
     "output_type": "stream",
     "text": [
      "['NUMERO' 'NOMBRE' 'TIPO_1' 'TIPO_2' 'PUNTOS_DE_VIDA' 'PUNTOS_ATAQUE'\n",
      " 'PUNTOS_DEFENSA' 'PUNTOS_ATAQUE_ESPECIAL' 'PUNTO_DEFENSA_ESPECIAL'\n",
      " 'PUNTOS_VELOCIDAD' 'NOMBRE_GENERATIONS' 'LEGENDARIO']\n",
      "   NUMERO            NOMBRE  TIPO_1   TIPO_2  PUNTOS_DE_VIDA  PUNTOS_ATAQUE  \\\n",
      "0       1         Bulbasaur  Planta   Veneno              45             49   \n",
      "1       2           Ivysaur  Planta   Veneno              60             62   \n",
      "2       3          Venusaur  Planta   Veneno              80             82   \n",
      "3       4     Mega Venusaur  Planta   Veneno              80            100   \n",
      "4       5        Charmander   Fuego      NaN              39             52   \n",
      "5       6        Charmeleon   Fuego      NaN              58             64   \n",
      "6       7         Charizard   Fuego  Volador              78             84   \n",
      "7       8  Mega Charizard X   Fuego   Dragon              78            130   \n",
      "8       9  Mega Charizard Y   Fuego  Volador              78            104   \n",
      "9      10          Squirtle    Agua      NaN              44             48   \n",
      "\n",
      "   PUNTOS_DEFENSA  PUNTOS_ATAQUE_ESPECIAL  PUNTO_DEFENSA_ESPECIAL  \\\n",
      "0              49                      65                      65   \n",
      "1              63                      80                      80   \n",
      "2              83                     100                     100   \n",
      "3             123                     122                     120   \n",
      "4              43                      60                      50   \n",
      "5              58                      80                      65   \n",
      "6              78                     109                      85   \n",
      "7             111                     130                      85   \n",
      "8              78                     159                     115   \n",
      "9              65                      50                      64   \n",
      "\n",
      "   PUNTOS_VELOCIDAD  NOMBRE_GENERATIONS LEGENDARIO  \n",
      "0                45                   1      FALSO  \n",
      "1                60                   1      FALSO  \n",
      "2                80                   1      FALSO  \n",
      "3                80                   1      FALSO  \n",
      "4                65                   1      FALSO  \n",
      "5                80                   1      FALSO  \n",
      "6               100                   1      FALSO  \n",
      "7               100                   1      FALSO  \n",
      "8               100                   1      FALSO  \n",
      "9                43                   1      FALSO  \n",
      "0      0\n",
      "1      0\n",
      "2      0\n",
      "3      0\n",
      "4      0\n",
      "      ..\n",
      "795    1\n",
      "796    1\n",
      "797    1\n",
      "798    1\n",
      "799    1\n",
      "Name: LEGENDARIO, Length: 800, dtype: int32\n"
     ]
    }
   ],
   "source": [
    "#Carga de los datos de los Pokémon en un Dataframe llamado nuestrosPokemon\n",
    "nuestrosPokemon = pnd.read_csv(\"datas/pokedex.csv\")\n",
    "\n",
    "#Visualización de las columnas del Dataframe\n",
    "print(nuestrosPokemon.columns.values)\n",
    "\n",
    "#Visualización de las 10 primeras líneas del DataFrame\n",
    "print(nuestrosPokemon.head(10))\n",
    "\n",
    "#Transformación de la columna LEGENDARIO en entero 0= FAlSO y 1=VERDADERO\n",
    "nuestrosPokemon['LEGENDARIO'] = (nuestrosPokemon['LEGENDARIO']=='VERDADERO').astype(int)\n",
    "print(nuestrosPokemon['LEGENDARIO'].head(800))"
   ]
  },
  {
   "cell_type": "markdown",
   "metadata": {},
   "source": [
    "Ahora que los datos están almacenados dentro de un **Dataframe**, es importante conocer los textos de las columnas para tener una idea de los datos de los que disponemos y de su semántica:"
   ]
  },
  {
   "cell_type": "code",
   "execution_count": 23,
   "metadata": {},
   "outputs": [
    {
     "name": "stdout",
     "output_type": "stream",
     "text": [
      "(800, 12)\n",
      "<class 'pandas.core.frame.DataFrame'>\n",
      "RangeIndex: 800 entries, 0 to 799\n",
      "Data columns (total 12 columns):\n",
      " #   Column                  Non-Null Count  Dtype \n",
      "---  ------                  --------------  ----- \n",
      " 0   NUMERO                  800 non-null    int64 \n",
      " 1   NOMBRE                  800 non-null    object\n",
      " 2   TIPO_1                  800 non-null    object\n",
      " 3   TIPO_2                  413 non-null    object\n",
      " 4   PUNTOS_DE_VIDA          800 non-null    int64 \n",
      " 5   PUNTOS_ATAQUE           800 non-null    int64 \n",
      " 6   PUNTOS_DEFENSA          800 non-null    int64 \n",
      " 7   PUNTOS_ATAQUE_ESPECIAL  800 non-null    int64 \n",
      " 8   PUNTO_DEFENSA_ESPECIAL  800 non-null    int64 \n",
      " 9   PUNTOS_VELOCIDAD        800 non-null    int64 \n",
      " 10  NOMBRE_GENERATIONS      800 non-null    int64 \n",
      " 11  LEGENDARIO              800 non-null    int32 \n",
      "dtypes: int32(1), int64(8), object(3)\n",
      "memory usage: 72.0+ KB\n",
      "None\n"
     ]
    }
   ],
   "source": [
    "#Recuento de la cantidad de observaciones y características\n",
    "print (nuestrosPokemon.shape)\n",
    "\n",
    "#Información de nuestro conjunto de datos\n",
    "print (nuestrosPokemon.info())"
   ]
  },
  {
   "cell_type": "markdown",
   "metadata": {},
   "source": [
    "#### Al leer este resultado podemos afirmar:\n",
    "\n",
    "*    Que disponemos de 800 observaciones (800 entradas).\n",
    "\n",
    "*    Que disponemos de 12 características.\n",
    "\n",
    "*    Que faltan 387 Tipo_2 (413 elementos de los 800 elementos esperados).\n",
    "\n",
    "Como complemento a esta información se observa que se ha especificado el tipo de los distintos datos. Así, los datos digitales se han especificado mediante la indicación int64 (int significa entero). Los otros son datos de tipo Object que pueden tomar la forma de cadena de caracteres (como es el caso de las características NOMBRE, TIPO_1 y TIPO_2)."
   ]
  },
  {
   "cell_type": "markdown",
   "metadata": {},
   "source": [
    "## ¿Cuáles son las características de categorización?\n",
    "Las características denominadas de categorización permiten clasificar los datos en los distintos grupos con ayuda de características comunes.\n",
    "Las características que pueden ayudarnos a categorizar o a clasificar nuestros Pokémon en grupos distintos son:\n",
    "\n",
    "*\tTIPO_1 (categoria)\n",
    "*\tTIPO_2 (categoria)\n",
    "*\tLEGENDARIO (categoria)\n",
    "*\tGENERACION (ordinal, debido a que es una cifra)\n",
    "\n"
   ]
  },
  {
   "cell_type": "markdown",
   "metadata": {},
   "source": [
    "## ¿Qué datos son de tipo digital?\n",
    "\n",
    "En el tratamiento de los datos, resulta difícil apoyarse en datos no digitales. Por lo tanto, es importante conocer los datos digitales que podrán ser la base de nuestros análisis.\n",
    "\n",
    "Observando los diez primeros datos, podemos afirmar que los datos digitales son:\n",
    "\n",
    "*    NUMERO\n",
    "*    PUNTO_DE_VIDA\n",
    "*    NIVEL_ATAQUE\n",
    "*    NIVEL_DEFENSA\n",
    "*    NIVEL_ATAQUE_ESPECIAL\n",
    "*    NIVEL_DEFENSA_ESPECIAL\n",
    "*    VELOCIDAD\n",
    "\n",
    "Además, los datos digitales se pueden clasificar en dos tipos: los datos **digitales discretos** y los datos **digitales continuos**.\n",
    "\n",
    "Un dato digital discreto es un dato que tiene un valor contable y numerable (la cantidad de patas de un Pokémon…).\n",
    "\n",
    "Un dato digital continuo es un dato que tiene una cantidad infinita de valores que forman un conjunto continuo. Por ejemplo, el tiempo de un combate de Pokémon puede estar comprendido entre 1 y 60 minutos y puede tomar el valor de 1 minuto y 30 segundos, 3 minutos y 34 segundos… La altura y el peso de un Pokémon también son datos digitales continuos, porque un Pokémon puede pesar 10,5 kg, 10,6 kg, 12 kg…\n",
    "\n",
    "En nuestro conjunto de observación, los datos digitales de los que disponemos son del tipo digital discreto."
   ]
  },
  {
   "cell_type": "markdown",
   "metadata": {},
   "source": [
    "## Analsis del dataset de los **combates** de Pokemon."
   ]
  },
  {
   "cell_type": "markdown",
   "metadata": {},
   "source": [
    "Acabamos de analizar las observaciones relativas a los Pokémon. Ahora debemos concentrarnos en las de los combates, listadas en el archivo combates.csv, procediendo con el mismo método de análisis:\n",
    "\n",
    "1. Carga del archivo\n",
    "2. Visualización de las características\n",
    "3. Visualización de las diez primeras observaciones\n",
    "4. Clasificación de las características: dato de categoría, digital continuo o digital discreto\n",
    "5. Recuento de la cantidad de observaciones y búsqueda de posibles datos ausentes\n",
    "\n"
   ]
  },
  {
   "cell_type": "code",
   "execution_count": 49,
   "metadata": {},
   "outputs": [
    {
     "name": "stdout",
     "output_type": "stream",
     "text": [
      "['Primer_Pokemon' 'Segundo_Pokemon' 'Pokemon_Ganador']\n",
      "   Primer_Pokemon  Segundo_Pokemon  Pokemon_Ganador\n",
      "0             266              298              298\n",
      "1             702              701              701\n",
      "2             191              668              668\n",
      "3             237              683              683\n",
      "4             151              231              151\n",
      "5             657              752              657\n",
      "6             192              134              134\n",
      "7              73              545              545\n",
      "8             220              763              763\n",
      "9             302               31               31\n",
      "(50000, 3)\n",
      "<class 'pandas.core.frame.DataFrame'>\n",
      "RangeIndex: 50000 entries, 0 to 49999\n",
      "Data columns (total 3 columns):\n",
      " #   Column           Non-Null Count  Dtype\n",
      "---  ------           --------------  -----\n",
      " 0   Primer_Pokemon   50000 non-null  int64\n",
      " 1   Segundo_Pokemon  50000 non-null  int64\n",
      " 2   Pokemon_Ganador  50000 non-null  int64\n",
      "dtypes: int64(3)\n",
      "memory usage: 1.1 MB\n",
      "None\n"
     ]
    }
   ],
   "source": [
    "#Carga de los datos de los combates\n",
    "combates = pnd.read_csv(\"datas/combates.csv\")\n",
    "\n",
    "#Visualización de las columnas del Dataframe\n",
    "print(combates.columns.values)\n",
    "\n",
    "#Visualización de las 10 primeras líneas del Dataframe\n",
    "print(combates.head(10))\n",
    "\n",
    "#Recuento de la cantidad de líneas y de columnas\n",
    "print (combates.shape)\n",
    "\n",
    "#Información de nuestro conjunto de datos\n",
    "print (combates.info())"
   ]
  },
  {
   "cell_type": "markdown",
   "metadata": {},
   "source": [
    "#### Aquí podemos ver el resultado de este análisis:\n",
    "\n",
    "*    El conjunto de datos contiene 50 000 observaciones y 3 características.\n",
    "\n",
    "*    Las características son «Primer_Pokemon», «Segundo_Pokemon» y «Pokemon_Ganador».\n",
    "\n",
    "*    La característica «Pokemon_Ganador» contiene el número del Pokémon ganador del combate.\n",
    "\n",
    "*    Todas las características son de tipo digital.\n",
    "\n",
    "*    No falta ninguna información.\n",
    "\n"
   ]
  },
  {
   "cell_type": "code",
   "execution_count": 65,
   "metadata": {},
   "outputs": [
    {
     "name": "stdout",
     "output_type": "stream",
     "text": [
      "                Segundo_Pokemon  Pokemon_Ganador\n",
      "Primer_Pokemon                                  \n",
      "1                            70               70\n",
      "2                            55               55\n",
      "3                            68               68\n",
      "4                            62               62\n",
      "5                            50               50\n",
      "...                         ...              ...\n",
      "796                          49               49\n",
      "797                          64               64\n",
      "798                          60               60\n",
      "799                          75               75\n",
      "800                          61               61\n",
      "\n",
      "[784 rows x 2 columns]\n"
     ]
    }
   ],
   "source": [
    "#Añadir las victorias en primera y segunda posición\n",
    "nVecesPrimeraPosicion = combates.groupby('Primer_Pokemon').count()\n",
    "print(nVecesPrimeraPosicion)"
   ]
  },
  {
   "cell_type": "markdown",
   "metadata": {},
   "source": [
    "La primera vez que se lee, esta tabla es difícil de comprender y parece poco coherente.\n",
    "\n",
    "En efecto, esperábamos obtener una primera columna con el título «NUMERO» luego otra columna «CANTIDAD_DE_VECES_EN_PRIMERA_ POSICION». Pero este no es el caso.\n",
    "\n",
    "La primera columna es nuestro criterio de reagrupación, es decir, la característica «PRIMER_POKEMON». Los datos corresponden al **número de Pokémon**.\n",
    "\n",
    "Cuando se hace una reagrupación con la función groupBy(), todas las características del conjunto de datos toman el valor de esta reagrupación. Por eso las características SEGUNDO_POKEMON y POKEMON_GANADOR tienen el **mismo valor**.\n",
    "\n",
    "Si queremos dar más sentido al resultado, podríamos hacerlo cambiando el nombre de las columnas, donde la segunda y la tercera columnas tendrán el mismo título:"
   ]
  },
  {
   "cell_type": "code",
   "execution_count": 72,
   "metadata": {},
   "outputs": [
    {
     "name": "stdout",
     "output_type": "stream",
     "text": [
      "                n_veces_en_primera_pos  n_veces_en_primera_pos\n",
      "Primer_Pokemon                                                \n",
      "1                                   70                      70\n",
      "2                                   55                      55\n",
      "3                                   68                      68\n",
      "4                                   62                      62\n",
      "5                                   50                      50\n",
      "...                                ...                     ...\n",
      "796                                 49                      49\n",
      "797                                 64                      64\n",
      "798                                 60                      60\n",
      "799                                 75                      75\n",
      "800                                 61                      61\n",
      "\n",
      "[784 rows x 2 columns]\n"
     ]
    }
   ],
   "source": [
    "nVecesPrimeraPosicionNew=nVecesPrimeraPosicion.copy()\n",
    "nVecesPrimeraPosicionNew.rename(columns={'Primer_Pokemon':'Numero_del_pokemon','Segundo_Pokemon':'n_veces_en_primera_pos','Pokemon_Ganador':'n_veces_en_primera_pos'}, inplace=True)\n",
    "print(nVecesPrimeraPosicionNew)"
   ]
  },
  {
   "cell_type": "markdown",
   "metadata": {},
   "source": [
    "Ahora procedemos de la misma manera para conocer la cantidad de veces que cada Pokémon ha combatido en segunda posición."
   ]
  },
  {
   "cell_type": "code",
   "execution_count": 71,
   "metadata": {},
   "outputs": [
    {
     "name": "stdout",
     "output_type": "stream",
     "text": [
      "                 Primer_Pokemon  Pokemon_Ganador\n",
      "Segundo_Pokemon                                 \n",
      "1                            63               63\n",
      "2                            66               66\n",
      "3                            64               64\n",
      "4                            63               63\n",
      "5                            62               62\n",
      "...                         ...              ...\n",
      "796                          56               56\n",
      "797                          67               67\n",
      "798                          59               59\n",
      "799                          69               69\n",
      "800                          60               60\n",
      "\n",
      "[784 rows x 2 columns]\n"
     ]
    }
   ],
   "source": [
    "nVecesSegundaPosicion = combates.groupby('Segundo_Pokemon').count()\n",
    "print(nVecesSegundaPosicion)\n"
   ]
  },
  {
   "cell_type": "markdown",
   "metadata": {},
   "source": [
    "Después hacemos la suma de los dos cálculos para saber la cantidad total de combates.\n",
    "\n",
    "En este caso tampoco hay que tener en cuenta los nombres de las columnas mostradas en la respuesta. La primera corresponde al número de Pokémon y la segunda a la cantidad de combates realizados."
   ]
  },
  {
   "cell_type": "code",
   "execution_count": 70,
   "metadata": {},
   "outputs": [
    {
     "name": "stdout",
     "output_type": "stream",
     "text": [
      "                Pokemon_Ganador  Primer_Pokemon  Segundo_Pokemon\n",
      "Primer_Pokemon                                                  \n",
      "1                           133             NaN              NaN\n",
      "2                           121             NaN              NaN\n",
      "3                           132             NaN              NaN\n",
      "4                           125             NaN              NaN\n",
      "5                           112             NaN              NaN\n",
      "...                         ...             ...              ...\n",
      "796                         105             NaN              NaN\n",
      "797                         131             NaN              NaN\n",
      "798                         119             NaN              NaN\n",
      "799                         144             NaN              NaN\n",
      "800                         121             NaN              NaN\n",
      "\n",
      "[784 rows x 3 columns]\n"
     ]
    }
   ],
   "source": [
    "\n",
    "cantidadTotalDeVictorias = nVecesPrimeraPosicion + nVecesSegundaPosicion\n",
    "print(cantidadTotalDeVictorias)\n"
   ]
  },
  {
   "cell_type": "markdown",
   "metadata": {},
   "source": [
    "### Cantidad de combates ganados\n",
    "\n",
    "Ahora pasamos a la cantidad de combates ganados por cada Pokémon. Conocer esta información nos permitirá saber si algunos Pokémon no han ganado nunca combates, lo que nos servirá para considerar desde este momento que no hay que utilizarlos durante un combate:"
   ]
  },
  {
   "cell_type": "code",
   "execution_count": 69,
   "metadata": {},
   "outputs": [
    {
     "name": "stdout",
     "output_type": "stream",
     "text": [
      "                 Primer_Pokemon  Segundo_Pokemon\n",
      "Pokemon_Ganador                                 \n",
      "1                            37               37\n",
      "2                            46               46\n",
      "3                            89               89\n",
      "4                            70               70\n",
      "5                            55               55\n",
      "...                         ...              ...\n",
      "796                          39               39\n",
      "797                         116              116\n",
      "798                          60               60\n",
      "799                          89               89\n",
      "800                          75               75\n",
      "\n",
      "[783 rows x 2 columns]\n"
     ]
    }
   ],
   "source": [
    "\n",
    "cantidadDeVictorias = combates.groupby('Pokemon_Ganador').count()\n",
    "print(cantidadDeVictorias)"
   ]
  },
  {
   "cell_type": "markdown",
   "metadata": {},
   "source": [
    "### Agregación de datos con Pokédex\n",
    "\n",
    "Ahora ha llegado el momento de agregar nuestros datos con Pokédex. Esta agregación va a permitirnos tener una vista centralizada de los datos y efectuar un análisis más profundo.\n",
    "\n",
    "En una primera fase vamos a crear una lista que contenga:\n",
    "\n",
    "* Los números de los Pokémon.\n",
    "* La cantidad de combates realizados.\n",
    "* La cantidad de combates ganados.\n",
    "* El porcentaje de victorias en relación con la cantidad de combates realizados.\n",
    "\n"
   ]
  },
  {
   "cell_type": "code",
   "execution_count": 78,
   "metadata": {},
   "outputs": [
    {
     "name": "stdout",
     "output_type": "stream",
     "text": [
      "                 N_COMBATES_PRIMERA_POSICION  N_COMBATES_SEGUNDA_POSICION  \\\n",
      "Pokemon_Ganador                                                             \n",
      "1                                         70                           63   \n",
      "2                                         55                           66   \n",
      "3                                         68                           64   \n",
      "4                                         62                           63   \n",
      "5                                         50                           62   \n",
      "...                                      ...                          ...   \n",
      "796                                       49                           56   \n",
      "797                                       64                           67   \n",
      "798                                       60                           59   \n",
      "799                                       75                           69   \n",
      "800                                       61                           60   \n",
      "\n",
      "                 N_COMBATES  N_VICTORIAS  PORCENTAJE_DE_VICTORIAS  \n",
      "Pokemon_Ganador                                                    \n",
      "1                       133           37                 0.278195  \n",
      "2                       121           46                 0.380165  \n",
      "3                       132           89                 0.674242  \n",
      "4                       125           70                 0.560000  \n",
      "5                       112           55                 0.491071  \n",
      "...                     ...          ...                      ...  \n",
      "796                     105           39                 0.371429  \n",
      "797                     131          116                 0.885496  \n",
      "798                     119           60                 0.504202  \n",
      "799                     144           89                 0.618056  \n",
      "800                     121           75                 0.619835  \n",
      "\n",
      "[783 rows x 5 columns]\n"
     ]
    }
   ],
   "source": [
    "#Se crea una lista a partir de una extracción para obtener la lista de los Pokémon, que se ordenan por número\n",
    "#Esta lista de números nos permitirá hacer la agregación de los datos\n",
    "listaAAgregar = combates.groupby('Pokemon_Ganador').count()\n",
    "listaAAgregar.sort_index()\n",
    "\n",
    "#se remueve la columna de los Pokémon\n",
    "listaAAgregar = listaAAgregar.drop(['Primer_Pokemon','Segundo_Pokemon'], axis=1)\n",
    "\n",
    "#Se añade la cantidad de combates en primera posición\n",
    "listaAAgregar['N_COMBATES_PRIMERA_POSICION'] = nVecesPrimeraPosicion.Pokemon_Ganador\n",
    "\n",
    "#Se añade la cantidad de combates en segunda posición\n",
    "listaAAgregar['N_COMBATES_SEGUNDA_POSICION'] = nVecesSegundaPosicion.Pokemon_Ganador\n",
    "\n",
    "#Se añade la cantidad de combates\n",
    "listaAAgregar['N_COMBATES'] = nVecesPrimeraPosicion.Pokemon_Ganador + nVecesSegundaPosicion.Pokemon_Ganador\n",
    "\n",
    "#Se añade la cantidad de victorias\n",
    "listaAAgregar['N_VICTORIAS'] = cantidadDeVictorias.Primer_Pokemon\n",
    "\n",
    "#Se calcula el porcentaje de victorias\n",
    "listaAAgregar['PORCENTAJE_DE_VICTORIAS']= cantidadDeVictorias.Primer_Pokemon/(nVecesPrimeraPosicion.Pokemon_Ganador + nVecesSegundaPosicion.Pokemon_Ganador)\n",
    "\n",
    "#Se muestra la lista nueva\n",
    "print(listaAAgregar)\n"
   ]
  },
  {
   "cell_type": "code",
   "execution_count": 79,
   "metadata": {},
   "outputs": [
    {
     "name": "stdout",
     "output_type": "stream",
     "text": [
      "     NUMERO           NOMBRE    TIPO_1     TIPO_2  PUNTOS_DE_VIDA  \\\n",
      "0         1        Bulbasaur    Planta     Veneno              45   \n",
      "1         2          Ivysaur    Planta     Veneno              60   \n",
      "2         3         Venusaur    Planta     Veneno              80   \n",
      "3         4    Mega Venusaur    Planta     Veneno              80   \n",
      "4         5       Charmander     Fuego        NaN              39   \n",
      "..      ...              ...       ...        ...             ...   \n",
      "795     796          Diancie      Roca       Hada              50   \n",
      "796     797     Mega Diancie      Roca       Hada              50   \n",
      "797     798  Hoopa contenido  Psiquico   Fantasma              80   \n",
      "798     799   Hoopa desatado  Psiquico  Siniestro              80   \n",
      "799     800        Volcanion     Fuego       Agua              80   \n",
      "\n",
      "     PUNTOS_ATAQUE  PUNTOS_DEFENSA  PUNTOS_ATAQUE_ESPECIAL  \\\n",
      "0               49              49                      65   \n",
      "1               62              63                      80   \n",
      "2               82              83                     100   \n",
      "3              100             123                     122   \n",
      "4               52              43                      60   \n",
      "..             ...             ...                     ...   \n",
      "795            100             150                     100   \n",
      "796            160             110                     160   \n",
      "797            110              60                     150   \n",
      "798            160              60                     170   \n",
      "799            110             120                     130   \n",
      "\n",
      "     PUNTO_DEFENSA_ESPECIAL  PUNTOS_VELOCIDAD  NOMBRE_GENERATIONS  LEGENDARIO  \\\n",
      "0                        65                45                   1           0   \n",
      "1                        80                60                   1           0   \n",
      "2                       100                80                   1           0   \n",
      "3                       120                80                   1           0   \n",
      "4                        50                65                   1           0   \n",
      "..                      ...               ...                 ...         ...   \n",
      "795                     150                50                   6           1   \n",
      "796                     110               110                   6           1   \n",
      "797                     130                70                   6           1   \n",
      "798                     130                80                   6           1   \n",
      "799                      90                70                   6           1   \n",
      "\n",
      "     N_COMBATES_PRIMERA_POSICION  N_COMBATES_SEGUNDA_POSICION  N_COMBATES  \\\n",
      "0                           70.0                         63.0       133.0   \n",
      "1                           55.0                         66.0       121.0   \n",
      "2                           68.0                         64.0       132.0   \n",
      "3                           62.0                         63.0       125.0   \n",
      "4                           50.0                         62.0       112.0   \n",
      "..                           ...                          ...         ...   \n",
      "795                         49.0                         56.0       105.0   \n",
      "796                         64.0                         67.0       131.0   \n",
      "797                         60.0                         59.0       119.0   \n",
      "798                         75.0                         69.0       144.0   \n",
      "799                         61.0                         60.0       121.0   \n",
      "\n",
      "     N_VICTORIAS  PORCENTAJE_DE_VICTORIAS  \n",
      "0           37.0                 0.278195  \n",
      "1           46.0                 0.380165  \n",
      "2           89.0                 0.674242  \n",
      "3           70.0                 0.560000  \n",
      "4           55.0                 0.491071  \n",
      "..           ...                      ...  \n",
      "795         39.0                 0.371429  \n",
      "796        116.0                 0.885496  \n",
      "797         60.0                 0.504202  \n",
      "798         89.0                 0.618056  \n",
      "799         75.0                 0.619835  \n",
      "\n",
      "[800 rows x 17 columns]\n"
     ]
    }
   ],
   "source": [
    "\n",
    "#Creación de un Pokedex nuevo que contiene los nombres de los Pokemon y su victoria\n",
    "nuevoPokedex = nuestrosPokemon.merge(listaAAgregar, left_on='NUMERO', right_index = True, how='left')\n",
    "\n",
    "print(nuevoPokedex)\n",
    "\n",
    "nuevoPokedex.to_csv('datas/nuevoPokedex.csv', index=False)\n",
    "\n"
   ]
  }
 ],
 "metadata": {
  "kernelspec": {
   "display_name": "Python 3",
   "language": "python",
   "name": "python3"
  },
  "language_info": {
   "codemirror_mode": {
    "name": "ipython",
    "version": 3
   },
   "file_extension": ".py",
   "mimetype": "text/x-python",
   "name": "python",
   "nbconvert_exporter": "python",
   "pygments_lexer": "ipython3",
   "version": "3.10.6"
  },
  "orig_nbformat": 4
 },
 "nbformat": 4,
 "nbformat_minor": 2
}
