{
  "nbformat": 4,
  "nbformat_minor": 0,
  "metadata": {
    "colab": {
      "provenance": [],
      "authorship_tag": "ABX9TyNCSXDY6uSw664TIGilfde0",
      "include_colab_link": true
    },
    "kernelspec": {
      "name": "python3",
      "display_name": "Python 3"
    },
    "language_info": {
      "name": "python"
    }
  },
  "cells": [
    {
      "cell_type": "markdown",
      "metadata": {
        "id": "view-in-github",
        "colab_type": "text"
      },
      "source": [
        "<a href=\"https://colab.research.google.com/github/AlbertoS8/Topicos-IA/blob/main/Trabajo1.ipynb\" target=\"_parent\"><img src=\"https://colab.research.google.com/assets/colab-badge.svg\" alt=\"Open In Colab\"/></a>"
      ]
    },
    {
      "cell_type": "code",
      "source": [
        "  grafo = {\n",
        "        'A': ['B', 'C', 'D', 'E'],\n",
        "        'B': ['A', 'F', 'G'],\n",
        "        'C': ['A', 'H'],\n",
        "        'D': ['A', 'I', 'J'],\n",
        "        'E': ['A', 'K', 'L'],\n",
        "        'F': ['B', 'M', 'N', 'O'],\n",
        "        'G': ['B', 'P', 'Q', 'R'],\n",
        "        'H': ['C', 'S'],\n",
        "        'I': ['D'],\n",
        "        'J': ['D', 'T', 'U'],\n",
        "        'K': ['E'],\n",
        "        'L': ['E', 'V'],\n",
        "        'M': ['F'],\n",
        "        'N': ['F'],\n",
        "        'O': ['F'],\n",
        "        'P': ['G'],\n",
        "        'Q': ['G'],\n",
        "        'R': ['G'],\n",
        "        'S': ['H', 'W', 'X'],\n",
        "        'T': ['J'],\n",
        "        'U': ['J', 'Y', 'Z'],\n",
        "        'V': ['L'],\n",
        "        'W': ['S'],\n",
        "        'X': ['S'],\n",
        "        'Y': ['U'],\n",
        "        'Z': ['U']\n",
        "  }"
      ],
      "metadata": {
        "id": "nD-rE10pH4CT"
      },
      "execution_count": null,
      "outputs": []
    },
    {
      "cell_type": "code",
      "source": [
        "visitado = [] # Lista para almacenar los nodos visitados\n",
        "#Implementación\n",
        "def dfs(graph, nodo, visitado):\n",
        "    if nodo not in visitado:\n",
        "        print (nodo)\n",
        "        visitado.append(nodo)\n",
        "        for vecino in graph[nodo]:\n",
        "            dfs(graph, vecino, visitado)\n",
        "\n",
        "# Llamada a la función\n",
        "dfs(grafo, 'A', visitado)"
      ],
      "metadata": {
        "colab": {
          "base_uri": "https://localhost:8080/"
        },
        "id": "UO02_HkuLoEX",
        "outputId": "d51daf93-392f-4b30-cf86-70b1fe1fbc33"
      },
      "execution_count": null,
      "outputs": [
        {
          "output_type": "stream",
          "name": "stdout",
          "text": [
            "A\n",
            "B\n",
            "F\n",
            "M\n",
            "N\n",
            "O\n",
            "G\n",
            "P\n",
            "Q\n",
            "R\n",
            "C\n",
            "H\n",
            "S\n",
            "W\n",
            "X\n",
            "D\n",
            "I\n",
            "J\n",
            "T\n",
            "U\n",
            "Y\n",
            "Z\n",
            "E\n",
            "K\n",
            "L\n",
            "V\n"
          ]
        }
      ]
    },
    {
      "cell_type": "markdown",
      "source": [
        "**BFS**"
      ],
      "metadata": {
        "id": "NuV3LtQ9PV3C"
      }
    },
    {
      "cell_type": "code",
      "source": [
        "grafo2 = {\n",
        "    'LUCIA'     : ['PEDRO','ROSARIO','KATY'],\n",
        "    'PEDRO'     : ['MARIA'],\n",
        "    'ROSARIO'   : ['CLEMENTE','DANIEL'],\n",
        "    'KATY'      : ['RICARDO'],\n",
        "    'CLEMENTE'  : [],\n",
        "    'DANIEL'    : ['RAMON','RICARDO'],\n",
        "    'MARIA'     : [],\n",
        "    'RAMON'     : [],\n",
        "    'RICARDO'   : []\n",
        "}"
      ],
      "metadata": {
        "id": "ikIE2ORXPbf8"
      },
      "execution_count": null,
      "outputs": []
    },
    {
      "cell_type": "code",
      "source": [
        "#Implementación 1\n",
        "def bfs_recorrido(graph, nodo):\n",
        "  visitados = [nodo] # Lista para saber que nodos ya han sido visitados.\n",
        "  queue= [nodo] # Lista para llevar registro de los nodos por visitar\n",
        "  while queue: #mientras la cola tenga elementos, hay nodos por revisar\n",
        "    s = queue.pop(0) #toma el primer elemento de la cola\n",
        "    print (s, end = \" \") #imprime el nodo visitado\n",
        "\n",
        "    for vecino in graph[s]:\n",
        "      if vecino not in visitados:\n",
        "        visitados.append(vecino)\n",
        "        queue.append(vecino)"
      ],
      "metadata": {
        "id": "1ETiYXYqQ09N"
      },
      "execution_count": null,
      "outputs": []
    },
    {
      "cell_type": "code",
      "source": [
        "# Llamada principal a la versión 1\n",
        "bfs_recorrido(grafo2, 'LUCIA')"
      ],
      "metadata": {
        "colab": {
          "base_uri": "https://localhost:8080/"
        },
        "id": "0sWIieCjQ7vx",
        "outputId": "1af2b29f-6437-4ca0-e73a-84b914670215"
      },
      "execution_count": null,
      "outputs": [
        {
          "output_type": "stream",
          "name": "stdout",
          "text": [
            "LUCIA PEDRO ROSARIO KATY MARIA CLEMENTE DANIEL RICARDO RAMON "
          ]
        }
      ]
    }
  ]
}